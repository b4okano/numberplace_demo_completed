{
 "cells": [
  {
   "cell_type": "code",
   "execution_count": 3,
   "id": "dc16996f",
   "metadata": {},
   "outputs": [
    {
     "name": "stdout",
     "output_type": "stream",
     "text": [
      "../pictures/image8.png を保存しました。\n",
      "../pictures/image8.png を保存しました。\n"
     ]
    }
   ],
   "source": [
    "import cv2\n",
    "\n",
    "cv2.namedWindow(\"camera\", cv2.WINDOW_NORMAL)\n",
    "\n",
    "#カメラの設定　デバイスIDは0\n",
    "cap = cv2.VideoCapture(0)\n",
    "\n",
    "#繰り返しのためのwhile文\n",
    "while True:\n",
    "    #カメラからの画像取得\n",
    "    ret, frame = cap.read()\n",
    "\n",
    "    #カメラの画像の出力\n",
    "    cv2.imshow('camera' , frame)\n",
    "\n",
    "    #繰り返し分から抜けるためのif文\n",
    "    key =cv2.waitKey(10)\n",
    "    if key == 27:\n",
    "        break\n",
    "    \n",
    "    elif key == 32:  # スペースキーで画像保存\n",
    "        filename = \"../pictures/image8.png\"\n",
    "        cv2.imwrite(filename, frame)\n",
    "        print(f\"{filename} を保存しました。\")\n",
    "\n",
    "#メモリを解放して終了するためのコマンド\n",
    "cap.release()\n",
    "cv2.destroyAllWindows()"
   ]
  }
 ],
 "metadata": {
  "kernelspec": {
   "display_name": "venv (3.11.9)",
   "language": "python",
   "name": "python3"
  },
  "language_info": {
   "codemirror_mode": {
    "name": "ipython",
    "version": 3
   },
   "file_extension": ".py",
   "mimetype": "text/x-python",
   "name": "python",
   "nbconvert_exporter": "python",
   "pygments_lexer": "ipython3",
   "version": "3.11.9"
  }
 },
 "nbformat": 4,
 "nbformat_minor": 5
}
