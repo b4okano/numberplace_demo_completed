{
 "cells": [
  {
   "cell_type": "code",
   "execution_count": null,
   "id": "9dc46716",
   "metadata": {},
   "outputs": [
    {
     "name": "stdout",
     "output_type": "stream",
     "text": [
      "[[378.22647961  80.55009723]\n",
      " [382.83272252 302.72710202]\n",
      " [156.45662553 299.91086759]\n",
      " [161.89866646  80.92565679]]\n",
      "検出された四隅座標: [[207 103]\n",
      " [484 103]\n",
      " [490 387]\n",
      " [200 383]]\n",
      "スコア: 0.8912661\n"
     ]
    }
   ],
   "source": [
    "import cv2\n",
    "import sys\n",
    "import os\n",
    "import numpy as np\n",
    "parent_dir = os.path.abspath(\"..\")\n",
    "sys.path.append(parent_dir)\n",
    "\n",
    "from preprocess import _detect_corners as de\n",
    "from preprocess import _trim_board as tri\n",
    "\n",
    "\n",
    "# 画像を読み込む\n",
    "raw_img = cv2.imread(\"../pictures/image1.png\")  #picturesフォルダにある画像を取り出す\n",
    "\n",
    "# detect_corners に渡してコーナーを検出\n",
    "corners, score = de.detect_corners(raw_img)\n",
    "\n",
    "if corners is None:\n",
    "    print(\"コーナー検出に失敗しました。\")\n",
    "    print(\"キャプチャからやり直してください\")\n",
    "else:\n",
    "    print(\"検出された四隅座標:\", corners)\n",
    "    print(\"スコア:\", score)\n",
    "\n",
    "\n",
    "    corners = tri.expand_corners(corners, expand_ratio=0.02)\n",
    "\n",
    "    trimed = tri.trim_board(raw_img,corners) #検知した輪郭から正方形に切り出す\n",
    "    cv2.imshow(\"trimed\",trimed)\n",
    "    cv2.waitKey(0)\n",
    "    cv2.destroyAllWindows()\n",
    "    cv2.imwrite(\"../pictures/output1.png\", trimed) #切り出した画像をpicturesフォルダに保存する\n",
    "\n",
    "\n"
   ]
  }
 ],
 "metadata": {
  "kernelspec": {
   "display_name": "venv (3.11.9)",
   "language": "python",
   "name": "python3"
  },
  "language_info": {
   "codemirror_mode": {
    "name": "ipython",
    "version": 3
   },
   "file_extension": ".py",
   "mimetype": "text/x-python",
   "name": "python",
   "nbconvert_exporter": "python",
   "pygments_lexer": "ipython3",
   "version": "3.11.9"
  }
 },
 "nbformat": 4,
 "nbformat_minor": 5
}
